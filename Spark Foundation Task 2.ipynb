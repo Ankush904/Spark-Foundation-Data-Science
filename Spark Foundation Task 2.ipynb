{
 "cells": [
  {
   "cell_type": "markdown",
   "metadata": {},
   "source": [
    "## K- Means Clustering "
   ]
  },
  {
   "cell_type": "markdown",
   "metadata": {},
   "source": [
    "we imported all the libraries that we might need for this project"
   ]
  },
  {
   "cell_type": "code",
   "execution_count": 1,
   "metadata": {},
   "outputs": [],
   "source": [
    "import numpy as np\n",
    "import pandas as pd\n",
    "from sklearn.cluster import KMeans\n",
    "from sklearn.preprocessing import MinMaxScaler\n",
    "from sklearn.datasets import load_iris\n",
    "import matplotlib.pyplot as plt\n",
    "%matplotlib inline"
   ]
  },
  {
   "cell_type": "markdown",
   "metadata": {},
   "source": [
    "we used load_iris methord as this data is preloaded and comverted it to dataframe"
   ]
  },
  {
   "cell_type": "code",
   "execution_count": 2,
   "metadata": {},
   "outputs": [],
   "source": [
    "iris = load_iris()"
   ]
  },
  {
   "cell_type": "code",
   "execution_count": 3,
   "metadata": {},
   "outputs": [
    {
     "data": {
      "text/html": [
       "<div>\n",
       "<style scoped>\n",
       "    .dataframe tbody tr th:only-of-type {\n",
       "        vertical-align: middle;\n",
       "    }\n",
       "\n",
       "    .dataframe tbody tr th {\n",
       "        vertical-align: top;\n",
       "    }\n",
       "\n",
       "    .dataframe thead th {\n",
       "        text-align: right;\n",
       "    }\n",
       "</style>\n",
       "<table border=\"1\" class=\"dataframe\">\n",
       "  <thead>\n",
       "    <tr style=\"text-align: right;\">\n",
       "      <th></th>\n",
       "      <th>sepal length (cm)</th>\n",
       "      <th>sepal width (cm)</th>\n",
       "      <th>petal length (cm)</th>\n",
       "      <th>petal width (cm)</th>\n",
       "    </tr>\n",
       "  </thead>\n",
       "  <tbody>\n",
       "    <tr>\n",
       "      <th>0</th>\n",
       "      <td>5.1</td>\n",
       "      <td>3.5</td>\n",
       "      <td>1.4</td>\n",
       "      <td>0.2</td>\n",
       "    </tr>\n",
       "    <tr>\n",
       "      <th>1</th>\n",
       "      <td>4.9</td>\n",
       "      <td>3.0</td>\n",
       "      <td>1.4</td>\n",
       "      <td>0.2</td>\n",
       "    </tr>\n",
       "    <tr>\n",
       "      <th>2</th>\n",
       "      <td>4.7</td>\n",
       "      <td>3.2</td>\n",
       "      <td>1.3</td>\n",
       "      <td>0.2</td>\n",
       "    </tr>\n",
       "    <tr>\n",
       "      <th>3</th>\n",
       "      <td>4.6</td>\n",
       "      <td>3.1</td>\n",
       "      <td>1.5</td>\n",
       "      <td>0.2</td>\n",
       "    </tr>\n",
       "    <tr>\n",
       "      <th>4</th>\n",
       "      <td>5.0</td>\n",
       "      <td>3.6</td>\n",
       "      <td>1.4</td>\n",
       "      <td>0.2</td>\n",
       "    </tr>\n",
       "    <tr>\n",
       "      <th>...</th>\n",
       "      <td>...</td>\n",
       "      <td>...</td>\n",
       "      <td>...</td>\n",
       "      <td>...</td>\n",
       "    </tr>\n",
       "    <tr>\n",
       "      <th>145</th>\n",
       "      <td>6.7</td>\n",
       "      <td>3.0</td>\n",
       "      <td>5.2</td>\n",
       "      <td>2.3</td>\n",
       "    </tr>\n",
       "    <tr>\n",
       "      <th>146</th>\n",
       "      <td>6.3</td>\n",
       "      <td>2.5</td>\n",
       "      <td>5.0</td>\n",
       "      <td>1.9</td>\n",
       "    </tr>\n",
       "    <tr>\n",
       "      <th>147</th>\n",
       "      <td>6.5</td>\n",
       "      <td>3.0</td>\n",
       "      <td>5.2</td>\n",
       "      <td>2.0</td>\n",
       "    </tr>\n",
       "    <tr>\n",
       "      <th>148</th>\n",
       "      <td>6.2</td>\n",
       "      <td>3.4</td>\n",
       "      <td>5.4</td>\n",
       "      <td>2.3</td>\n",
       "    </tr>\n",
       "    <tr>\n",
       "      <th>149</th>\n",
       "      <td>5.9</td>\n",
       "      <td>3.0</td>\n",
       "      <td>5.1</td>\n",
       "      <td>1.8</td>\n",
       "    </tr>\n",
       "  </tbody>\n",
       "</table>\n",
       "<p>150 rows × 4 columns</p>\n",
       "</div>"
      ],
      "text/plain": [
       "     sepal length (cm)  sepal width (cm)  petal length (cm)  petal width (cm)\n",
       "0                  5.1               3.5                1.4               0.2\n",
       "1                  4.9               3.0                1.4               0.2\n",
       "2                  4.7               3.2                1.3               0.2\n",
       "3                  4.6               3.1                1.5               0.2\n",
       "4                  5.0               3.6                1.4               0.2\n",
       "..                 ...               ...                ...               ...\n",
       "145                6.7               3.0                5.2               2.3\n",
       "146                6.3               2.5                5.0               1.9\n",
       "147                6.5               3.0                5.2               2.0\n",
       "148                6.2               3.4                5.4               2.3\n",
       "149                5.9               3.0                5.1               1.8\n",
       "\n",
       "[150 rows x 4 columns]"
      ]
     },
     "execution_count": 3,
     "metadata": {},
     "output_type": "execute_result"
    }
   ],
   "source": [
    "df = pd.DataFrame(iris.data,columns = iris.feature_names) #\"iris.feature_names\" is used to add heading \n",
    "df"
   ]
  },
  {
   "cell_type": "markdown",
   "metadata": {},
   "source": [
    "Lets find out cluster of last two columns for simplicity"
   ]
  },
  {
   "cell_type": "code",
   "execution_count": 4,
   "metadata": {},
   "outputs": [
    {
     "data": {
      "text/html": [
       "<div>\n",
       "<style scoped>\n",
       "    .dataframe tbody tr th:only-of-type {\n",
       "        vertical-align: middle;\n",
       "    }\n",
       "\n",
       "    .dataframe tbody tr th {\n",
       "        vertical-align: top;\n",
       "    }\n",
       "\n",
       "    .dataframe thead th {\n",
       "        text-align: right;\n",
       "    }\n",
       "</style>\n",
       "<table border=\"1\" class=\"dataframe\">\n",
       "  <thead>\n",
       "    <tr style=\"text-align: right;\">\n",
       "      <th></th>\n",
       "      <th>petal length (cm)</th>\n",
       "      <th>petal width (cm)</th>\n",
       "    </tr>\n",
       "  </thead>\n",
       "  <tbody>\n",
       "    <tr>\n",
       "      <th>0</th>\n",
       "      <td>1.4</td>\n",
       "      <td>0.2</td>\n",
       "    </tr>\n",
       "    <tr>\n",
       "      <th>1</th>\n",
       "      <td>1.4</td>\n",
       "      <td>0.2</td>\n",
       "    </tr>\n",
       "    <tr>\n",
       "      <th>2</th>\n",
       "      <td>1.3</td>\n",
       "      <td>0.2</td>\n",
       "    </tr>\n",
       "    <tr>\n",
       "      <th>3</th>\n",
       "      <td>1.5</td>\n",
       "      <td>0.2</td>\n",
       "    </tr>\n",
       "    <tr>\n",
       "      <th>4</th>\n",
       "      <td>1.4</td>\n",
       "      <td>0.2</td>\n",
       "    </tr>\n",
       "    <tr>\n",
       "      <th>...</th>\n",
       "      <td>...</td>\n",
       "      <td>...</td>\n",
       "    </tr>\n",
       "    <tr>\n",
       "      <th>145</th>\n",
       "      <td>5.2</td>\n",
       "      <td>2.3</td>\n",
       "    </tr>\n",
       "    <tr>\n",
       "      <th>146</th>\n",
       "      <td>5.0</td>\n",
       "      <td>1.9</td>\n",
       "    </tr>\n",
       "    <tr>\n",
       "      <th>147</th>\n",
       "      <td>5.2</td>\n",
       "      <td>2.0</td>\n",
       "    </tr>\n",
       "    <tr>\n",
       "      <th>148</th>\n",
       "      <td>5.4</td>\n",
       "      <td>2.3</td>\n",
       "    </tr>\n",
       "    <tr>\n",
       "      <th>149</th>\n",
       "      <td>5.1</td>\n",
       "      <td>1.8</td>\n",
       "    </tr>\n",
       "  </tbody>\n",
       "</table>\n",
       "<p>150 rows × 2 columns</p>\n",
       "</div>"
      ],
      "text/plain": [
       "     petal length (cm)  petal width (cm)\n",
       "0                  1.4               0.2\n",
       "1                  1.4               0.2\n",
       "2                  1.3               0.2\n",
       "3                  1.5               0.2\n",
       "4                  1.4               0.2\n",
       "..                 ...               ...\n",
       "145                5.2               2.3\n",
       "146                5.0               1.9\n",
       "147                5.2               2.0\n",
       "148                5.4               2.3\n",
       "149                5.1               1.8\n",
       "\n",
       "[150 rows x 2 columns]"
      ]
     },
     "execution_count": 4,
     "metadata": {},
     "output_type": "execute_result"
    }
   ],
   "source": [
    "df.drop([\"sepal width (cm)\",\"sepal length (cm)\"], axis = 1, inplace = True)\n",
    "df"
   ]
  },
  {
   "cell_type": "markdown",
   "metadata": {},
   "source": [
    "# optimum number of clusters for K Means"
   ]
  },
  {
   "cell_type": "code",
   "execution_count": 5,
   "metadata": {},
   "outputs": [],
   "source": [
    "sse = [] # sum of squared error\n",
    "K_range = range(1,10)\n",
    "for k in K_range:\n",
    "    KM = KMeans(n_clusters = k)\n",
    "    KM.fit(df)\n",
    "    sse.append(KM.inertia_) # SUM of square error is found by inertia_"
   ]
  },
  {
   "cell_type": "code",
   "execution_count": 6,
   "metadata": {},
   "outputs": [
    {
     "name": "stdout",
     "output_type": "stream",
     "text": [
      "sum of squared error values\n"
     ]
    },
    {
     "data": {
      "text/plain": [
       "[550.8953333333333,\n",
       " 86.39021984551391,\n",
       " 31.371358974358966,\n",
       " 19.48300089968511,\n",
       " 13.91690875790876,\n",
       " 11.08722366260479,\n",
       " 9.275455486542448,\n",
       " 7.724757618684389,\n",
       " 6.820080361159309]"
      ]
     },
     "execution_count": 6,
     "metadata": {},
     "output_type": "execute_result"
    }
   ],
   "source": [
    "print(\"sum of squared error values\")\n",
    "sse"
   ]
  },
  {
   "cell_type": "markdown",
   "metadata": {},
   "source": [
    "# plotting graph for sse V/S K_range to find optimum numbers"
   ]
  },
  {
   "cell_type": "code",
   "execution_count": 7,
   "metadata": {},
   "outputs": [
    {
     "data": {
      "text/plain": [
       "Text(0, 0.5, 'sum of squared error')"
      ]
     },
     "execution_count": 7,
     "metadata": {},
     "output_type": "execute_result"
    },
    {
     "data": {
      "image/png": "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\n",
      "text/plain": [
       "<Figure size 432x288 with 1 Axes>"
      ]
     },
     "metadata": {
      "needs_background": "light"
     },
     "output_type": "display_data"
    }
   ],
   "source": [
    "plt.plot(K_range,sse)\n",
    "plt.xlabel(\"K\")\n",
    "plt.ylabel(\"sum of squared error\")"
   ]
  },
  {
   "cell_type": "markdown",
   "metadata": {},
   "source": [
    "According to the \"Elbow Methord\" the point 3 form a perfect elbow."
   ]
  },
  {
   "cell_type": "markdown",
   "metadata": {},
   "source": [
    "# Now we fing clusters"
   ]
  },
  {
   "cell_type": "code",
   "execution_count": 8,
   "metadata": {},
   "outputs": [
    {
     "data": {
      "text/plain": [
       "array([1, 1, 1, 1, 1, 1, 1, 1, 1, 1, 1, 1, 1, 1, 1, 1, 1, 1, 1, 1, 1, 1,\n",
       "       1, 1, 1, 1, 1, 1, 1, 1, 1, 1, 1, 1, 1, 1, 1, 1, 1, 1, 1, 1, 1, 1,\n",
       "       1, 1, 1, 1, 1, 1, 2, 2, 2, 2, 2, 2, 2, 2, 2, 2, 2, 2, 2, 2, 2, 2,\n",
       "       2, 2, 2, 2, 2, 2, 2, 2, 2, 2, 2, 0, 2, 2, 2, 2, 2, 0, 2, 2, 2, 2,\n",
       "       2, 2, 2, 2, 2, 2, 2, 2, 2, 2, 2, 2, 0, 0, 0, 0, 0, 0, 2, 0, 0, 0,\n",
       "       0, 0, 0, 0, 0, 0, 0, 0, 0, 2, 0, 0, 0, 0, 0, 0, 2, 0, 0, 0, 0, 0,\n",
       "       0, 0, 0, 0, 0, 0, 2, 0, 0, 0, 0, 0, 0, 0, 0, 0, 0, 0])"
      ]
     },
     "execution_count": 8,
     "metadata": {},
     "output_type": "execute_result"
    }
   ],
   "source": [
    "km = KMeans(n_clusters = 3)\n",
    "y_predic = km.fit_predict(df)\n",
    "y_predic"
    "df.unique()"
   ]
  },
  {
   "cell_type": "code",
   "execution_count": 9,
   "metadata": {},
   "outputs": [
    {
     "data": {
      "text/html": [
       "<div>\n",
       "<style scoped>\n",
       "    .dataframe tbody tr th:only-of-type {\n",
       "        vertical-align: middle;\n",
       "    }\n",
       "\n",
       "    .dataframe tbody tr th {\n",
       "        vertical-align: top;\n",
       "    }\n",
       "\n",
       "    .dataframe thead th {\n",
       "        text-align: right;\n",
       "    }\n",
       "</style>\n",
       "<table border=\"1\" class=\"dataframe\">\n",
       "  <thead>\n",
       "    <tr style=\"text-align: right;\">\n",
       "      <th></th>\n",
       "      <th>petal length (cm)</th>\n",
       "      <th>petal width (cm)</th>\n",
       "      <th>Cluster</th>\n",
       "    </tr>\n",
       "  </thead>\n",
       "  <tbody>\n",
       "    <tr>\n",
       "      <th>0</th>\n",
       "      <td>1.4</td>\n",
       "      <td>0.2</td>\n",
       "      <td>1</td>\n",
       "    </tr>\n",
       "    <tr>\n",
       "      <th>1</th>\n",
       "      <td>1.4</td>\n",
       "      <td>0.2</td>\n",
       "      <td>1</td>\n",
       "    </tr>\n",
       "    <tr>\n",
       "      <th>2</th>\n",
       "      <td>1.3</td>\n",
       "      <td>0.2</td>\n",
       "      <td>1</td>\n",
       "    </tr>\n",
       "    <tr>\n",
       "      <th>3</th>\n",
       "      <td>1.5</td>\n",
       "      <td>0.2</td>\n",
       "      <td>1</td>\n",
       "    </tr>\n",
       "    <tr>\n",
       "      <th>4</th>\n",
       "      <td>1.4</td>\n",
       "      <td>0.2</td>\n",
       "      <td>1</td>\n",
       "    </tr>\n",
       "    <tr>\n",
       "      <th>...</th>\n",
       "      <td>...</td>\n",
       "      <td>...</td>\n",
       "      <td>...</td>\n",
       "    </tr>\n",
       "    <tr>\n",
       "      <th>145</th>\n",
       "      <td>5.2</td>\n",
       "      <td>2.3</td>\n",
       "      <td>0</td>\n",
       "    </tr>\n",
       "    <tr>\n",
       "      <th>146</th>\n",
       "      <td>5.0</td>\n",
       "      <td>1.9</td>\n",
       "      <td>0</td>\n",
       "    </tr>\n",
       "    <tr>\n",
       "      <th>147</th>\n",
       "      <td>5.2</td>\n",
       "      <td>2.0</td>\n",
       "      <td>0</td>\n",
       "    </tr>\n",
       "    <tr>\n",
       "      <th>148</th>\n",
       "      <td>5.4</td>\n",
       "      <td>2.3</td>\n",
       "      <td>0</td>\n",
       "    </tr>\n",
       "    <tr>\n",
       "      <th>149</th>\n",
       "      <td>5.1</td>\n",
       "      <td>1.8</td>\n",
       "      <td>0</td>\n",
       "    </tr>\n",
       "  </tbody>\n",
       "</table>\n",
       "<p>150 rows × 3 columns</p>\n",
       "</div>"
      ],
      "text/plain": [
       "     petal length (cm)  petal width (cm)  Cluster\n",
       "0                  1.4               0.2        1\n",
       "1                  1.4               0.2        1\n",
       "2                  1.3               0.2        1\n",
       "3                  1.5               0.2        1\n",
       "4                  1.4               0.2        1\n",
       "..                 ...               ...      ...\n",
       "145                5.2               2.3        0\n",
       "146                5.0               1.9        0\n",
       "147                5.2               2.0        0\n",
       "148                5.4               2.3        0\n",
       "149                5.1               1.8        0\n",
       "\n",
       "[150 rows x 3 columns]"
      ]
     },
     "execution_count": 9,
     "metadata": {},
     "output_type": "execute_result"
    }
   ],
   "source": [
    "df[\"Cluster\"] = y_predic\n",
    "df"
   ]
  },
  {
   "cell_type": "code",
   "execution_count": 10,
   "metadata": {},
   "outputs": [
    {
     "data": {
      "text/plain": [
       "array([[5.59583333, 2.0375    ],\n",
       "       [1.462     , 0.246     ],\n",
       "       [4.26923077, 1.34230769]])"
      ]
     },
     "execution_count": 10,
     "metadata": {},
     "output_type": "execute_result"
    }
   ],
   "source": [
    "km.cluster_centers_ # this returns the coordinates of the centers"
   ]
  },
  {
   "cell_type": "markdown",
   "metadata": {},
   "source": [
    "We created three different data frame for 3 k value"
   ]
  },
  {
   "cell_type": "code",
   "execution_count": 11,
   "metadata": {},
   "outputs": [],
   "source": [
    "df1 = df[df[\"Cluster\"]==0]\n",
    "df2 = df[df[\"Cluster\"]==1]\n",
    "df3 = df[df[\"Cluster\"]==2]"
   ]
  },
  {
   "cell_type": "code",
   "execution_count": 12,
   "metadata": {},
   "outputs": [
    {
     "data": {
      "text/plain": [
       "<matplotlib.collections.PathCollection at 0x1d32eb5ad90>"
      ]
     },
     "execution_count": 12,
     "metadata": {},
     "output_type": "execute_result"
    },
    {
     "data": {
      "image/png": "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\n",
      "text/plain": [
       "<Figure size 432x288 with 1 Axes>"
      ]
     },
     "metadata": {
      "needs_background": "light"
     },
     "output_type": "display_data"
    }
   ],
   "source": [
    "plt.scatter(df1[\"petal length (cm)\"], df1[\"petal width (cm)\"],color = \"blue\")\n",
    "plt.scatter(df2[\"petal length (cm)\"], df2[\"petal width (cm)\"],color = \"green\")\n",
    "plt.scatter(df3[\"petal length (cm)\"], df3[\"petal width (cm)\"],color = \"red\")\n",
    "plt.scatter(km.cluster_centers_[:,0],km.cluster_centers_[:,1],color = \"black\",marker = \"*\")"
   ]
  },
  {
   "cell_type": "code",
   "execution_count": null,
   "metadata": {},
   "outputs": [],
   "source": []
  }
 ],
 "metadata": {
  "kernelspec": {
   "display_name": "Python 3",
   "language": "python",
   "name": "python3"
  },
  "language_info": {
   "codemirror_mode": {
    "name": "ipython",
    "version": 3
   },
   "file_extension": ".py",
   "mimetype": "text/x-python",
   "name": "python",
   "nbconvert_exporter": "python",
   "pygments_lexer": "ipython3",
   "version": "3.8.5"
  }
 },
 "nbformat": 4,
 "nbformat_minor": 4
}
